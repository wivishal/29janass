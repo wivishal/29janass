{
 "cells": [
  {
   "cell_type": "markdown",
   "id": "88b88100-6b12-4734-bee5-e434811d9811",
   "metadata": {},
   "source": [
    "Q1. Who developed python programming language ?"
   ]
  },
  {
   "cell_type": "markdown",
   "id": "25d03a2e-e6c9-4e7f-b360-4059ee27c9c6",
   "metadata": {},
   "source": [
    "Guido van Rossum"
   ]
  },
  {
   "cell_type": "markdown",
   "id": "3038186d-7e7f-4317-89df-e83f5aeb7729",
   "metadata": {},
   "source": [
    "Q2. Which type of  programming does python support ?"
   ]
  },
  {
   "cell_type": "markdown",
   "id": "ad1ee655-e931-4b31-8735-19e2330e26f7",
   "metadata": {},
   "source": [
    "Python is an interpreted programming language, supporting object-oriented, structured, and functional programming."
   ]
  },
  {
   "cell_type": "markdown",
   "id": "c83c58d6-8540-4caf-91a9-23b862974c73",
   "metadata": {},
   "source": [
    "Q3. Is python case sensitive when dwaling with identifiers ?"
   ]
  },
  {
   "cell_type": "markdown",
   "id": "3fa1522b-2022-43a1-ac5e-5efc4b729931",
   "metadata": {},
   "source": [
    "Yes, Python is a case−sensitive programming language."
   ]
  },
  {
   "cell_type": "markdown",
   "id": "421857c1-e9c9-41f1-8b73-f356251fa0d2",
   "metadata": {},
   "source": [
    "Q4. What is correct extension of the python file ?"
   ]
  },
  {
   "cell_type": "markdown",
   "id": "c905e11f-7260-4fa2-b4e3-4de8c8cfbd93",
   "metadata": {},
   "source": [
    " .pyc: This is the file extension for compiled Python code files."
   ]
  },
  {
   "cell_type": "markdown",
   "id": "f1e250a8-1d55-4960-a6c9-709a053b229f",
   "metadata": {},
   "source": [
    "Q5. Is python code is copiled or intepreted ?"
   ]
  },
  {
   "cell_type": "markdown",
   "id": "5c633d05-f00a-4f28-b77d-baccbc672654",
   "metadata": {},
   "source": [
    "Python is an interpreted language, which means the source code of a Python program is converted into bytecode that is then executed by the Python virtual machine."
   ]
  },
  {
   "cell_type": "markdown",
   "id": "1cc13648-bc7e-4498-89db-743d5f14b99f",
   "metadata": {},
   "source": [
    "Q6. Name a few blocks of code used to define in python language ? "
   ]
  },
  {
   "cell_type": "markdown",
   "id": "9a93ce64-821e-4fd3-97dd-d142cdf07a26",
   "metadata": {},
   "source": [
    "The following are blocks: a module, a function body, and a class definition."
   ]
  },
  {
   "cell_type": "markdown",
   "id": "89210fce-d8a1-4944-97e3-8b6f0636fae5",
   "metadata": {},
   "source": [
    "Q7. State a character ueds to give single line comments in python ?"
   ]
  },
  {
   "cell_type": "markdown",
   "id": "7c53fee7-b586-4828-bd70-e6e94b1bf43c",
   "metadata": {},
   "source": [
    "We can write a single-line comment by adding a single # character before any statement or line of code."
   ]
  },
  {
   "cell_type": "markdown",
   "id": "0ba9eee1-5992-48dc-b0d9-b7a64205c50f",
   "metadata": {},
   "source": [
    "Q8. Mention functions which can help us to find the version of python that we are currently work on ?"
   ]
  },
  {
   "cell_type": "markdown",
   "id": "468f5848-e27a-417c-ba38-73ed8f8c49d5",
   "metadata": {},
   "source": [
    " The function sys. version can help us to find the version of python that we are currently working on."
   ]
  },
  {
   "cell_type": "markdown",
   "id": "a1975830-c18d-40db-b46b-833388f13231",
   "metadata": {},
   "source": [
    "Q9. Python supports the creation of anonymous functions at runtime, usinf construct called ______ "
   ]
  },
  {
   "cell_type": "markdown",
   "id": "cfb79dec-b227-479b-bec5-d968611ecd4b",
   "metadata": {},
   "source": [
    "lambda"
   ]
  },
  {
   "cell_type": "markdown",
   "id": "eb5a8e42-0f1b-4f6a-ac79-7b4dcb579d81",
   "metadata": {},
   "source": [
    "Q10. What does pip stands for python ?"
   ]
  },
  {
   "cell_type": "markdown",
   "id": "9b53ae9c-4547-4209-b264-21665093319f",
   "metadata": {},
   "source": [
    "Developed in 2008, pip (an acronym of “pip Install Packages”) is today the standard tool for installing Python packages and their dependencies in a secure manner. Most recent distributions of Python come with pip preinstalled. Python 2.7. 9 and Python 3.4 and later versions include pip by default."
   ]
  },
  {
   "cell_type": "markdown",
   "id": "19a07a8a-1b46-4f8f-b840-b70d61fb4b66",
   "metadata": {},
   "source": [
    "Q11. Mention a few built in function in python ?"
   ]
  },
  {
   "cell_type": "markdown",
   "id": "de62c1aa-97c8-4122-8c09-f3cad3e5551e",
   "metadata": {},
   "source": [
    "print( ) function\n",
    "type( ) function\n",
    "input( ) function\n",
    "abs( ) function\n",
    "pow( ) function\n",
    "dir( ) function\n",
    "sorted( ) function\n",
    "max( ) function\n",
    "round( ) function\n",
    "divmod( ) function\n",
    "id( ) function\n",
    "ord( ) function\n",
    "len( ) function\n",
    "sum( ) function"
   ]
  },
  {
   "cell_type": "markdown",
   "id": "2789c3e5-4a75-4a88-a234-0356ee629089",
   "metadata": {},
   "source": [
    "Q12. What is the maximum possible length of an identifier in python ?"
   ]
  },
  {
   "cell_type": "markdown",
   "id": "a12bfde0-d390-422b-9546-7d162f0a8d57",
   "metadata": {},
   "source": [
    "An identifier can have a maximum length of 79 characters in Python. "
   ]
  },
  {
   "cell_type": "markdown",
   "id": "c1d05cf9-23ee-44c3-a41d-b089660c5ab9",
   "metadata": {},
   "source": [
    "Q13. What are the benefits of using python ?"
   ]
  },
  {
   "cell_type": "markdown",
   "id": "40c62d1b-c348-4fd0-916b-71f098cff813",
   "metadata": {},
   "source": [
    "Simple to Use and Understand. For newcomers, Python is simple to understand and use. \n",
    "Free and Open-Source. Video Player is loading. \n",
    "Productivity has Increased. \n",
    "Interpreted Language. \n",
    "Extensive library. \n",
    "Dynamically Typed. \n",
    "Portability. \n",
    "Supportive community."
   ]
  },
  {
   "cell_type": "markdown",
   "id": "93fe903b-204e-4510-b307-96f0d10e6d99",
   "metadata": {},
   "source": [
    "Q14. How is memeory managed in python ?"
   ]
  },
  {
   "cell_type": "markdown",
   "id": "f67b292e-bc8c-4920-82f5-acc3d8692fd5",
   "metadata": {},
   "source": [
    "Python uses the dynamic memory allocation which is managed by the Heap data structure. Memory Heap holds the objects and other data structures that will be used in the program. Python memory manager manages the allocation or de-allocation of the heap memory space through the API functions."
   ]
  },
  {
   "cell_type": "markdown",
   "id": "cc84c8de-500d-4cf2-9a3a-8707cc2abcd0",
   "metadata": {},
   "source": [
    "Q15. How to install python on windows and set path variables ?"
   ]
  },
  {
   "cell_type": "markdown",
   "id": "04e75d6f-fec7-4cfa-b18a-e5e4a34b793a",
   "metadata": {},
   "source": [
    "1. Right-clicking This PC and going to Properties.\n",
    "\n",
    "2. Clicking on the Advanced system settings in the menu on the left.\n",
    "\n",
    "3. Clicking on the Environment Variables button on the bottom right.\n",
    "\n",
    "4. In the System variables section, selecting the Path variable and clicking on Edit. The next screen will show all the directories that are currently a part of the PATH variable.\n",
    "\n",
    "5. Clicking on New and entering Python’s install directory."
   ]
  },
  {
   "cell_type": "markdown",
   "id": "6a532c84-d1a3-4487-ade1-b173235f55cd",
   "metadata": {},
   "source": [
    "Q16. Is identation required in python ?"
   ]
  },
  {
   "cell_type": "markdown",
   "id": "50987c1a-503b-4a96-822e-adece3418703",
   "metadata": {},
   "source": [
    "Indentation is important to Python, because it's how you determine scope. Scope is how Python knows what code belongs to what part of the program."
   ]
  }
 ],
 "metadata": {
  "kernelspec": {
   "display_name": "Python 3 (ipykernel)",
   "language": "python",
   "name": "python3"
  },
  "language_info": {
   "codemirror_mode": {
    "name": "ipython",
    "version": 3
   },
   "file_extension": ".py",
   "mimetype": "text/x-python",
   "name": "python",
   "nbconvert_exporter": "python",
   "pygments_lexer": "ipython3",
   "version": "3.10.6"
  }
 },
 "nbformat": 4,
 "nbformat_minor": 5
}
